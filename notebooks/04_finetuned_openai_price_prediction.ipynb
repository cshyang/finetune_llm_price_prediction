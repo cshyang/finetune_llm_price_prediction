{
 "cells": [
  {
   "cell_type": "markdown",
   "metadata": {},
   "source": [
    "# The notebook explore finetuned OpenAI model for price prediction"
   ]
  },
  {
   "cell_type": "code",
   "execution_count": 15,
   "metadata": {},
   "outputs": [],
   "source": [
    "import sys\n",
    "import os\n",
    "# Add the project root to sys.path\n",
    "project_root = os.path.abspath(\"..\")  # Move one level up to the project root\n",
    "if project_root not in sys.path:\n",
    "    sys.path.insert(0, project_root)# change working directory to project root\n",
    "import os\n",
    "import re\n",
    "import math\n",
    "import json\n",
    "import random\n",
    "import pickle\n",
    "import numpy as np\n",
    "import pandas as pd\n",
    "from utils.items import Item\n",
    "from utils.tester import Tester\n",
    "from dotenv import load_dotenv\n",
    "import matplotlib.pyplot as plt\n",
    "from huggingface_hub import login\n",
    "from langchain_openai import ChatOpenAI\n",
    "from langchain_anthropic import ChatAnthropic\n",
    "\n",
    "%matplotlib inline\n"
   ]
  },
  {
   "cell_type": "code",
   "execution_count": 2,
   "metadata": {},
   "outputs": [],
   "source": [
    "openai_llm = ChatOpenAI(model=\"gpt-4o-mini\")\n",
    "anthropic_llm = ChatAnthropic(model=\"claude-3-sonnet-20240229\")\n",
    "HF_TOKEN = os.getenv('HUGGINGFACE_TOKEN')"
   ]
  },
  {
   "cell_type": "code",
   "execution_count": 3,
   "metadata": {},
   "outputs": [],
   "source": [
    "# Load data\n",
    "## Add an alias in sys.modules\n",
    "# os.chdir(\"..\")\n",
    "sys.modules['items'] = sys.modules['utils.items']\n",
    "\n",
    "with open('data/train.pkl', 'rb') as f:\n",
    "    train = pickle.load(f, encoding='latin1')\n",
    "\n",
    "with open('data/test.pkl', 'rb') as f:\n",
    "    test = pickle.load(f)"
   ]
  },
  {
   "cell_type": "code",
   "execution_count": 32,
   "metadata": {},
   "outputs": [],
   "source": [
    "# OpenAI recommends fine-tuning with populations of 50-100 examples\n",
    "\n",
    "fine_tune_train = train[:500]\n",
    "fine_tune_validation = train[500:550]"
   ]
  },
  {
   "cell_type": "markdown",
   "metadata": {},
   "source": []
  },
  {
   "cell_type": "markdown",
   "metadata": {},
   "source": [
    "## 1.0. Preparing the dataset\n",
    "\n",
    "Prepare the data in the format of jsonl (json lines) format and upload to OpenAI."
   ]
  },
  {
   "cell_type": "code",
   "execution_count": 21,
   "metadata": {},
   "outputs": [],
   "source": [
    "def messages_for(item):\n",
    "    system_message = \"You estimate prices of items. Reply only with the price, no explanation\"\n",
    "    user_prompt = item.test_prompt().replace(\" to the nearest dollar\",\"\").replace(\"\\n\\nPrice is $\",\"\")\n",
    "    return [\n",
    "        {\"role\": \"system\", \"content\": system_message},\n",
    "        {\"role\": \"user\", \"content\": user_prompt},\n",
    "        {\"role\": \"assistant\", \"content\": f\"Price is ${item.price:.2f}\"}\n",
    "    ]"
   ]
  },
  {
   "cell_type": "code",
   "execution_count": 22,
   "metadata": {},
   "outputs": [
    {
     "data": {
      "text/plain": [
       "[{'role': 'system',\n",
       "  'content': 'You estimate prices of items. Reply only with the price, no explanation'},\n",
       " {'role': 'user',\n",
       "  'content': 'How much does this cost?\\n\\nAT-A-GLANCE Daily Appointment Book 2015, 4.88 x 8 Inch Page Size, Black\\nAround-the-clock planning, 24 hours a day, 7 days a week for the full year. Includes military and standard times with one day per page and hourly appointments, 12 p.m., including weekends. 12 months of planning power, January–December; 4.88 x 8 inch page size; 5.81 x 8.31 x.38 inches overall; Julian dates. One day per page; notes space; past, current and two future months reference. Printed on quality recycled paper with 30% post-consumer waste; black simulated leather wirebound cover. Made in the U.S.A. Get around-the-clock planning with this'},\n",
       " {'role': 'assistant', 'content': 'Price is $30.86'}]"
      ]
     },
     "execution_count": 22,
     "metadata": {},
     "output_type": "execute_result"
    }
   ],
   "source": [
    "messages_for(fine_tune_train[0])"
   ]
  },
  {
   "cell_type": "code",
   "execution_count": 23,
   "metadata": {},
   "outputs": [],
   "source": [
    "def make_jsonl(items):\n",
    "    result = \"\"\n",
    "    for item in items:\n",
    "        messages = messages_for(item)\n",
    "        messages_str = json.dumps(messages)\n",
    "        result += '{\"messages\": ' + messages_str +'}\\n'\n",
    "    return result.strip()"
   ]
  },
  {
   "cell_type": "code",
   "execution_count": 24,
   "metadata": {},
   "outputs": [
    {
     "name": "stdout",
     "output_type": "stream",
     "text": [
      "{\"messages\": [{\"role\": \"system\", \"content\": \"You estimate prices of items. Reply only with the price, no explanation\"}, {\"role\": \"user\", \"content\": \"How much does this cost?\\n\\nAT-A-GLANCE Daily Appointment Book 2015, 4.88 x 8 Inch Page Size, Black\\nAround-the-clock planning, 24 hours a day, 7 days a week for the full year. Includes military and standard times with one day per page and hourly appointments, 12 p.m., including weekends. 12 months of planning power, January\\u2013December; 4.88 x 8 inch page size; 5.81 x 8.31 x.38 inches overall; Julian dates. One day per page; notes space; past, current and two future months reference. Printed on quality recycled paper with 30% post-consumer waste; black simulated leather wirebound cover. Made in the U.S.A. Get around-the-clock planning with this\"}, {\"role\": \"assistant\", \"content\": \"Price is $30.86\"}]}\n",
      "{\"messages\": [{\"role\": \"system\", \"content\": \"You estimate prices of items. Reply only with the price, no explanation\"}, {\"role\": \"user\", \"content\": \"How much does this cost?\\n\\nYITAMOTOR Front Suspension Kit Compatible with Odyssey, w/Front Lower Control Arm, Sway Bar Links, Tie Rods\\nIn automotive suspension, a control arm, also known as an A-arm, is a hinged suspension link between the chassis and the suspension upright or hub that carries the wheel. The inboard (chassis) end of a control arm is attached by a single pivot, usually a rubber bushing Real-Car Test Reverse-engineered to match the original equipment shape and dimensions to provide a direct, seamless fit High Quality Assembly is stamped from a solid piece of steel/alumium and are electrophoretic coated for unrivaled durability and strength Package Included 2x Front lower control arm, 2x Front outer tie rod end, 2x Front inner\"}, {\"role\": \"assistant\", \"content\": \"Price is $162.99\"}]}\n"
     ]
    }
   ],
   "source": [
    "print(make_jsonl(fine_tune_train[:2]))"
   ]
  },
  {
   "cell_type": "code",
   "execution_count": 25,
   "metadata": {},
   "outputs": [],
   "source": [
    "# Function to convert the items into jsonl and write them into a file\n",
    "def write_jsonl(items, filename):\n",
    "    with open(filename, \"w\") as f:\n",
    "        jsonl = make_jsonl(items)\n",
    "        f.write(jsonl)"
   ]
  },
  {
   "cell_type": "code",
   "execution_count": 33,
   "metadata": {},
   "outputs": [],
   "source": [
    "# Write the jsonl files in `data` folder\n",
    "write_jsonl(fine_tune_train, 'data/fine_tune_train.jsonl')\n",
    "write_jsonl(fine_tune_validation, 'data/fine_tune_validation.jsonl')\n"
   ]
  },
  {
   "cell_type": "code",
   "execution_count": 58,
   "metadata": {},
   "outputs": [],
   "source": [
    "from openai import OpenAI\n",
    "\n",
    "openai = OpenAI()\n",
    "\n",
    "with open(\"data/fine_tune_train.jsonl\", 'rb') as f:\n",
    "    train_file = openai.files.create(file=f, purpose=\"fine-tune\")"
   ]
  },
  {
   "cell_type": "code",
   "execution_count": 59,
   "metadata": {},
   "outputs": [],
   "source": [
    "with open(\"data/fine_tune_validation.jsonl\", 'rb') as f:\n",
    "    validation_file = openai.files.create(file=f, purpose=\"fine-tune\")"
   ]
  },
  {
   "cell_type": "code",
   "execution_count": 60,
   "metadata": {},
   "outputs": [
    {
     "data": {
      "text/plain": [
       "(FileObject(id='file-GsMQ7YhfQpJzcXgtqtA8eNKp', bytes=473632, created_at=1729703261, filename='fine_tune_train.jsonl', object='file', purpose='fine-tune', status='processed', status_details=None),\n",
       " FileObject(id='file-trzOCjCl596aCceI4kJsk0zR', bytes=46359, created_at=1729703262, filename='fine_tune_validation.jsonl', object='file', purpose='fine-tune', status='processed', status_details=None))"
      ]
     },
     "execution_count": 60,
     "metadata": {},
     "output_type": "execute_result"
    }
   ],
   "source": [
    "train_file, validation_file"
   ]
  },
  {
   "cell_type": "markdown",
   "metadata": {},
   "source": [
    "## 2.0. Start finefuning"
   ]
  },
  {
   "cell_type": "code",
   "execution_count": 61,
   "metadata": {},
   "outputs": [],
   "source": [
    "# Use Weights&Bias to keep track of the finetuning\n",
    "wandb_integration = {\"type\": \"wandb\", \"wandb\": {\"project\": \"gpt-pricer\"}}"
   ]
  },
  {
   "cell_type": "code",
   "execution_count": 67,
   "metadata": {},
   "outputs": [
    {
     "data": {
      "text/plain": [
       "FineTuningJob(id='ftjob-mPL9zZ2ipZuOyEeYClM0aUJz', created_at=1729703328, error=Error(code=None, message=None, param=None), fine_tuned_model=None, finished_at=None, hyperparameters=Hyperparameters(n_epochs=1, batch_size='auto', learning_rate_multiplier='auto'), model='gpt-4o-mini-2024-07-18', object='fine_tuning.job', organization_id='org-QwkaiIVYTMEnksnVSLDagho7', result_files=[], seed=42, status='validating_files', trained_tokens=None, training_file='file-GsMQ7YhfQpJzcXgtqtA8eNKp', validation_file='file-trzOCjCl596aCceI4kJsk0zR', estimated_finish=None, integrations=[], user_provided_suffix='gpt-pricer')"
      ]
     },
     "execution_count": 67,
     "metadata": {},
     "output_type": "execute_result"
    }
   ],
   "source": [
    "openai.fine_tuning.jobs.create(\n",
    "    training_file=train_file.id,\n",
    "    validation_file=validation_file.id,\n",
    "    model='gpt-4o-mini-2024-07-18',\n",
    "    seed=42,\n",
    "    hyperparameters={\"n_epochs\":1},\n",
    "    integrations = [wandb_integration],\n",
    "    suffix=\"gpt-pricer\"\n",
    ")"
   ]
  },
  {
   "cell_type": "code",
   "execution_count": 68,
   "metadata": {},
   "outputs": [
    {
     "data": {
      "text/plain": [
       "SyncCursorPage[FineTuningJob](data=[FineTuningJob(id='ftjob-mPL9zZ2ipZuOyEeYClM0aUJz', created_at=1729703328, error=Error(code=None, message=None, param=None), fine_tuned_model=None, finished_at=None, hyperparameters=Hyperparameters(n_epochs=1, batch_size=1, learning_rate_multiplier=1.8), model='gpt-4o-mini-2024-07-18', object='fine_tuning.job', organization_id='org-QwkaiIVYTMEnksnVSLDagho7', result_files=[], seed=42, status='validating_files', trained_tokens=None, training_file='file-GsMQ7YhfQpJzcXgtqtA8eNKp', validation_file='file-trzOCjCl596aCceI4kJsk0zR', estimated_finish=None, integrations=[], user_provided_suffix='gpt-pricer')], object='list', has_more=False)"
      ]
     },
     "execution_count": 68,
     "metadata": {},
     "output_type": "execute_result"
    }
   ],
   "source": [
    "openai.fine_tuning.jobs.list()"
   ]
  },
  {
   "cell_type": "code",
   "execution_count": 69,
   "metadata": {},
   "outputs": [],
   "source": [
    "job_id = openai.fine_tuning.jobs.list().data[0].id"
   ]
  },
  {
   "cell_type": "code",
   "execution_count": 71,
   "metadata": {},
   "outputs": [
    {
     "data": {
      "text/plain": [
       "FineTuningJob(id='ftjob-mPL9zZ2ipZuOyEeYClM0aUJz', created_at=1729703328, error=Error(code=None, message=None, param=None), fine_tuned_model=None, finished_at=None, hyperparameters=Hyperparameters(n_epochs=1, batch_size=1, learning_rate_multiplier=1.8), model='gpt-4o-mini-2024-07-18', object='fine_tuning.job', organization_id='org-QwkaiIVYTMEnksnVSLDagho7', result_files=[], seed=42, status='validating_files', trained_tokens=None, training_file='file-GsMQ7YhfQpJzcXgtqtA8eNKp', validation_file='file-trzOCjCl596aCceI4kJsk0zR', estimated_finish=None, integrations=[], user_provided_suffix='gpt-pricer')"
      ]
     },
     "execution_count": 71,
     "metadata": {},
     "output_type": "execute_result"
    }
   ],
   "source": [
    "openai.fine_tuning.jobs.retrieve(job_id)"
   ]
  },
  {
   "cell_type": "code",
   "execution_count": 81,
   "metadata": {},
   "outputs": [
    {
     "data": {
      "text/plain": [
       "[FineTuningJobEvent(id='ftevent-vtXhVXL7hUnPV9TxXpqPiiOH', created_at=1729704186, level='info', message='The job has successfully completed', object='fine_tuning.job.event', data={}, type='message'),\n",
       " FineTuningJobEvent(id='ftevent-JhxxBRZWHE1x9jEv4B66jaLx', created_at=1729704181, level='info', message='New fine-tuned model created', object='fine_tuning.job.event', data={}, type='message'),\n",
       " FineTuningJobEvent(id='ftevent-0c756bJYRGZApAs7gwECouVo', created_at=1729704161, level='info', message='Step 500/500: training loss=1.43, validation loss=1.40, full validation loss=1.03', object='fine_tuning.job.event', data={'step': 500, 'train_loss': 1.4301223754882812, 'valid_loss': 1.3987600803375244, 'total_steps': 500, 'full_valid_loss': 1.032523102760315, 'train_mean_token_accuracy': 0.75, 'valid_mean_token_accuracy': 0.75, 'full_valid_mean_token_accuracy': 0.795}, type='metrics'),\n",
       " FineTuningJobEvent(id='ftevent-uNWPbvqEDMoRYcBVKMq7iYot', created_at=1729704122, level='info', message='Step 499/500: training loss=0.67', object='fine_tuning.job.event', data={'step': 499, 'train_loss': 0.6749405860900879, 'total_steps': 500, 'train_mean_token_accuracy': 0.875}, type='metrics'),\n",
       " FineTuningJobEvent(id='ftevent-C86Vv4gIE3KHNVcwiC5OYPc6', created_at=1729704118, level='info', message='Step 498/500: training loss=1.18', object='fine_tuning.job.event', data={'step': 498, 'train_loss': 1.1803467273712158, 'total_steps': 500, 'train_mean_token_accuracy': 0.75}, type='metrics'),\n",
       " FineTuningJobEvent(id='ftevent-ezOX0bSQfrIqygGE5y6Umn2c', created_at=1729704118, level='info', message='Step 497/500: training loss=1.47', object='fine_tuning.job.event', data={'step': 497, 'train_loss': 1.4650750160217285, 'total_steps': 500, 'train_mean_token_accuracy': 0.75}, type='metrics'),\n",
       " FineTuningJobEvent(id='ftevent-B4c486DFZVVDQglcdm2iACYd', created_at=1729704118, level='info', message='Step 496/500: training loss=1.24', object='fine_tuning.job.event', data={'step': 496, 'train_loss': 1.2421085834503174, 'total_steps': 500, 'train_mean_token_accuracy': 0.75}, type='metrics'),\n",
       " FineTuningJobEvent(id='ftevent-P1t2t9TDxqjxZOZcgoCmstFx', created_at=1729704117, level='info', message='Step 495/500: training loss=1.31', object='fine_tuning.job.event', data={'step': 495, 'train_loss': 1.3148934841156006, 'total_steps': 500, 'train_mean_token_accuracy': 0.75}, type='metrics'),\n",
       " FineTuningJobEvent(id='ftevent-PCqRn0LdVLUS6QdOz1SmsaXl', created_at=1729704114, level='info', message='Step 494/500: training loss=1.27', object='fine_tuning.job.event', data={'step': 494, 'train_loss': 1.26920747756958, 'total_steps': 500, 'train_mean_token_accuracy': 0.75}, type='metrics'),\n",
       " FineTuningJobEvent(id='ftevent-N40ZFtS44wMu44WwLx1iR1zQ', created_at=1729704114, level='info', message='Step 493/500: training loss=1.76', object='fine_tuning.job.event', data={'step': 493, 'train_loss': 1.7628090381622314, 'total_steps': 500, 'train_mean_token_accuracy': 0.75}, type='metrics')]"
      ]
     },
     "execution_count": 81,
     "metadata": {},
     "output_type": "execute_result"
    }
   ],
   "source": [
    "openai.fine_tuning.jobs.list_events(fine_tuning_job_id=job_id, limit=10).data"
   ]
  },
  {
   "cell_type": "markdown",
   "metadata": {},
   "source": [
    "## 3.0. Evaluate the fine-fined model"
   ]
  },
  {
   "cell_type": "code",
   "execution_count": 82,
   "metadata": {},
   "outputs": [],
   "source": [
    "fine_tuned_model_name = openai.fine_tuning.jobs.retrieve(job_id).fine_tuned_model"
   ]
  },
  {
   "cell_type": "code",
   "execution_count": 83,
   "metadata": {},
   "outputs": [
    {
     "data": {
      "text/plain": [
       "'ft:gpt-4o-mini-2024-07-18:hiredly:gpt-pricer:ALZMTqIm'"
      ]
     },
     "execution_count": 83,
     "metadata": {},
     "output_type": "execute_result"
    }
   ],
   "source": [
    "fine_tuned_model_name"
   ]
  },
  {
   "cell_type": "code",
   "execution_count": 85,
   "metadata": {},
   "outputs": [
    {
     "data": {
      "text/plain": [
       "39.0"
      ]
     },
     "execution_count": 85,
     "metadata": {},
     "output_type": "execute_result"
    }
   ],
   "source": [
    "openai_llm = ChatOpenAI(model=fine_tuned_model_name)\n",
    "\n",
    "from langchain_core.messages import HumanMessage, SystemMessage, AIMessage\n",
    "\n",
    "def messages_for(item):\n",
    "    system_message = \"You estimate prices of items. reply only with the price, no explaination.\"\n",
    "    user_prompt = item.test_prompt().replace(\" to the nearest dollor\", \"\").replace(\"\\n\\nPrice is $\", \"\")\n",
    "    return [\n",
    "        SystemMessage(content=system_message),\n",
    "         HumanMessage(content=user_prompt),\n",
    "         AIMessage(content=\"Price is $\")\n",
    "    ]\n",
    "    \n",
    "    # A utility function to extract the price from a string\n",
    "\n",
    "def get_price(s):\n",
    "    s = s.replace('$','').replace(',','')\n",
    "    match = re.search(r\"[-+]?\\d*\\.\\d+|\\d+\", s)\n",
    "    return float(match.group()) if match else 0\n",
    "\n",
    "def openai_get_price(item) :\n",
    "    response = openai_llm.invoke(messages_for(item), max_tokens=5, seed=42).content\n",
    "    # Extract the price from the response\n",
    "    return get_price(response)\n",
    "\n",
    "openai_get_price(test[0])"
   ]
  },
  {
   "cell_type": "code",
   "execution_count": 86,
   "metadata": {},
   "outputs": [
    {
     "name": "stdout",
     "output_type": "stream",
     "text": [
      "\u001b[93m1: Guess: $39.00 | Truth: $97.99 | Error: $58.99 | SLE: $0.82 | Item: Aukilus LCD Display Touch Screen Digitiz...\u001b[0m\n",
      "\u001b[92m2: Guess: $103.00 | Truth: $116.92 | Error: $13.92 | SLE: $0.02 | Item: Depo 312-19C6R-AF Replacement Auto Part ...\u001b[0m\n",
      "\u001b[93m3: Guess: $285.00 | Truth: $410.00 | Error: $125.00 | SLE: $0.13 | Item: Digital Check CheXpress Scanner WITHOUT ...\u001b[0m\n",
      "\u001b[91m4: Guess: $161.00 | Truth: $68.76 | Error: $92.24 | SLE: $0.71 | Item: Greenwald Industries 8-1170 Genuine OEM ...\u001b[0m\n",
      "\u001b[91m5: Guess: $127.00 | Truth: $298.59 | Error: $171.59 | SLE: $0.72 | Item: Innovative Mounts 90750-85A Black Bushin...\u001b[0m\n",
      "\u001b[93m6: Guess: $161.00 | Truth: $228.99 | Error: $67.99 | SLE: $0.12 | Item: A-Premium Hydro-Boost Power Brake Booste...\u001b[0m\n",
      "\u001b[93m7: Guess: $289.00 | Truth: $409.95 | Error: $120.95 | SLE: $0.12 | Item: B&M 70418 Tork Master 2400 Torque Conver...\u001b[0m\n",
      "\u001b[92m8: Guess: $143.00 | Truth: $118.99 | Error: $24.01 | SLE: $0.03 | Item: Boxes Fast BFMFL1294K Deluxe Literature ...\u001b[0m\n",
      "\u001b[92m9: Guess: $22.00 | Truth: $34.99 | Error: $12.99 | SLE: $0.20 | Item: 72\" Homemade Mexican Food Banner Sign Ta...\u001b[0m\n",
      "\u001b[92m10: Guess: $164.00 | Truth: $137.12 | Error: $26.88 | SLE: $0.03 | Item: Detroit Axle - Rear Drilled & Slotted Di...\u001b[0m\n",
      "\u001b[93m11: Guess: $519.00 | Truth: $679.99 | Error: $160.99 | SLE: $0.07 | Item: Ronghui F150 Front Bumper with LED Light...\u001b[0m\n",
      "\u001b[91m12: Guess: $179.00 | Truth: $86.13 | Error: $92.87 | SLE: $0.53 | Item: TYC 2776 Radiator Compatible with 2005-2...\u001b[0m\n",
      "\u001b[91m13: Guess: $252.00 | Truth: $104.71 | Error: $147.29 | SLE: $0.76 | Item: Dorman 601-039 Micro Power Module Compat...\u001b[0m\n",
      "\u001b[93m14: Guess: $100.00 | Truth: $164.96 | Error: $64.96 | SLE: $0.25 | Item: Tripp Lite 2 Outlet Home/Office, 2-Ft Co...\u001b[0m\n",
      "\u001b[92m15: Guess: $142.00 | Truth: $166.92 | Error: $24.92 | SLE: $0.03 | Item: 2014-2021 Polaris Sportsman 850 OEM Comp...\u001b[0m\n",
      "\u001b[92m16: Guess: $161.00 | Truth: $191.50 | Error: $30.50 | SLE: $0.03 | Item: Kumho Ecsta PA51 All-Season Tire - 245/5...\u001b[0m\n",
      "\u001b[91m17: Guess: $154.00 | Truth: $724.99 | Error: $570.99 | SLE: $2.38 | Item: Canon PC 170 Personal Copier\u001b[0m\n",
      "\u001b[93m18: Guess: $63.00 | Truth: $115.99 | Error: $52.99 | SLE: $0.36 | Item: LCDOLED Replacement 14.0 inches FHD 1920...\u001b[0m\n",
      "\u001b[91m19: Guess: $22.00 | Truth: $127.66 | Error: $105.66 | SLE: $2.96 | Item: Clutch Slave Cylinder Actuator For Smart...\u001b[0m\n",
      "\u001b[93m20: Guess: $799.00 | Truth: $999.00 | Error: $200.00 | SLE: $0.05 | Item: NVIDIA_ GeForce RTX 3070 8GB GDDR6 Graph...\u001b[0m\n",
      "\u001b[92m21: Guess: $22.00 | Truth: $15.80 | Error: $6.20 | SLE: $0.10 | Item: Rottweiler Leather Dog Small Keychain VA...\u001b[0m\n",
      "\u001b[91m22: Guess: $164.00 | Truth: $80.98 | Error: $83.02 | SLE: $0.49 | Item: BOSCH 36010978 QuietCast Premium Disc Br...\u001b[0m\n",
      "\u001b[92m23: Guess: $8.00 | Truth: $2.99 | Error: $5.01 | SLE: $0.66 | Item: 50pcs Easter Stickers for Kids & Adults ...\u001b[0m\n",
      "\u001b[92m24: Guess: $183.00 | Truth: $155.99 | Error: $27.01 | SLE: $0.03 | Item: R1 Concepts Front Brakes and Rotors Kit ...\u001b[0m\n",
      "\u001b[93m25: Guess: $149.00 | Truth: $74.99 | Error: $74.01 | SLE: $0.46 | Item: Outdoor WiFi Extender High Power Outdoor...\u001b[0m\n",
      "\u001b[93m26: Guess: $186.00 | Truth: $237.96 | Error: $51.96 | SLE: $0.06 | Item: Complete Tractor 1407-7001 Gauge Cluster...\u001b[0m\n",
      "\u001b[92m27: Guess: $21.00 | Truth: $18.29 | Error: $2.71 | SLE: $0.02 | Item: TS2 TOUCHLESS TIRE SHINE - High Performa...\u001b[0m\n",
      "\u001b[92m28: Guess: $67.00 | Truth: $74.99 | Error: $7.99 | SLE: $0.01 | Item: FH Group FB071115 + F11306 Travel Master...\u001b[0m\n",
      "\u001b[92m29: Guess: $66.00 | Truth: $60.72 | Error: $5.28 | SLE: $0.01 | Item: Aviditi Corrugated Cardboard Storage Bin...\u001b[0m\n",
      "\u001b[91m30: Guess: $249.00 | Truth: $433.13 | Error: $184.13 | SLE: $0.30 | Item: DVI HDMI to USB 3.0 Professional Video a...\u001b[0m\n",
      "\u001b[92m31: Guess: $164.00 | Truth: $175.59 | Error: $11.59 | SLE: $0.00 | Item: Coverking Custom Fit Center 60/40 Bench ...\u001b[0m\n",
      "\u001b[91m32: Guess: $65.00 | Truth: $219.95 | Error: $154.95 | SLE: $1.46 | Item: AudioQuest Sydney Analog Audio Interconn...\u001b[0m\n",
      "\u001b[92m33: Guess: $164.00 | Truth: $131.95 | Error: $32.05 | SLE: $0.05 | Item: Carpartsinnovate For 02-04 Camry LE XLE ...\u001b[0m\n",
      "\u001b[91m34: Guess: $50.00 | Truth: $168.00 | Error: $118.00 | SLE: $1.44 | Item: Gridseed ASIC Miner for Litecoin and Bit...\u001b[0m\n",
      "\u001b[92m35: Guess: $22.00 | Truth: $33.00 | Error: $11.00 | SLE: $0.15 | Item: Large Capacity Boys Girls Baby Yo School...\u001b[0m\n",
      "\u001b[92m36: Guess: $69.00 | Truth: $35.99 | Error: $33.01 | SLE: $0.41 | Item: VILTROX L116T On-Camera 3300K-5600K Bi-C...\u001b[0m\n",
      "\u001b[92m37: Guess: $4.00 | Truth: $6.95 | Error: $2.95 | SLE: $0.22 | Item: Sleazy Greetings Funny Happy Father's Da...\u001b[0m\n",
      "\u001b[93m38: Guess: $252.00 | Truth: $316.00 | Error: $64.00 | SLE: $0.05 | Item: Extreme Dimensions Duraflex Replacement ...\u001b[0m\n",
      "\u001b[93m39: Guess: $557.00 | Truth: $749.00 | Error: $192.00 | SLE: $0.09 | Item: (Windows 11 Home) 2021 Newest HP Laptop,...\u001b[0m\n",
      "\u001b[93m40: Guess: $22.00 | Truth: $68.38 | Error: $46.38 | SLE: $1.22 | Item: Ramco Automotive, Throttle Position Sens...\u001b[0m\n",
      "\u001b[91m41: Guess: $317.00 | Truth: $215.99 | Error: $101.01 | SLE: $0.15 | Item: ACANII - For Chrome 2006-2009 Ford Fusio...\u001b[0m\n",
      "\u001b[92m42: Guess: $21.00 | Truth: $2.49 | Error: $18.51 | SLE: $3.39 | Item: This Air Force Retired Chrome Mini Bumpe...\u001b[0m\n",
      "\u001b[91m43: Guess: $139.00 | Truth: $316.23 | Error: $177.23 | SLE: $0.67 | Item: HP ProLiant DL380 G7 2U RackMount 64-bit...\u001b[0m\n",
      "\u001b[92m44: Guess: $22.00 | Truth: $15.00 | Error: $7.00 | SLE: $0.13 | Item: Ford W705-967S439-X, Axle Nut\u001b[0m\n",
      "\u001b[93m45: Guess: $193.00 | Truth: $117.48 | Error: $75.52 | SLE: $0.24 | Item: Premier Gear PG-13715 Alternator Compati...\u001b[0m\n",
      "\u001b[92m46: Guess: $164.00 | Truth: $138.95 | Error: $25.05 | SLE: $0.03 | Item: ROCKFORD FOSGATE R165-S 6.5\" 80 Watt 2-W...\u001b[0m\n",
      "\u001b[92m47: Guess: $58.00 | Truth: $22.00 | Error: $36.00 | SLE: $0.89 | Item: GMC Sierra Z71 Offroad Truck Stickers De...\u001b[0m\n",
      "\u001b[92m48: Guess: $22.00 | Truth: $28.99 | Error: $6.99 | SLE: $0.07 | Item: Samson SR450 Closed Back On-Ear Studio H...\u001b[0m\n",
      "\u001b[92m49: Guess: $161.00 | Truth: $126.24 | Error: $34.76 | SLE: $0.06 | Item: Blue Ox BX88366 EZ Light Wiring Kit for ...\u001b[0m\n",
      "\u001b[92m50: Guess: $22.00 | Truth: $33.00 | Error: $11.00 | SLE: $0.15 | Item: Bigfoot Alien Mouse Pad with Wrist Suppo...\u001b[0m\n",
      "\u001b[92m51: Guess: $279.00 | Truth: $329.99 | Error: $50.99 | SLE: $0.03 | Item: KODAK 150” Portable Projector Screen W/S...\u001b[0m\n",
      "\u001b[91m52: Guess: $47.00 | Truth: $324.95 | Error: $277.95 | SLE: $3.67 | Item: Bronco, AU-04416, 2 Rear Gas Shocks for ...\u001b[0m\n",
      "\u001b[92m53: Guess: $26.00 | Truth: $20.99 | Error: $5.01 | SLE: $0.04 | Item: Vintage Design Hard Case for MacBook Pro...\u001b[0m\n",
      "\u001b[92m54: Guess: $161.00 | Truth: $130.99 | Error: $30.01 | SLE: $0.04 | Item: Monroe 172780R Quick Complete Strut Asse...\u001b[0m\n",
      "\u001b[91m55: Guess: $289.00 | Truth: $149.99 | Error: $139.01 | SLE: $0.43 | Item: Plantronics CS55 Wireless Office Headset...\u001b[0m\n",
      "\u001b[91m56: Guess: $99.00 | Truth: $345.00 | Error: $246.00 | SLE: $1.54 | Item: YONGNUO YN85mm F1.8S E Mount Lens for So...\u001b[0m\n",
      "\u001b[92m57: Guess: $58.00 | Truth: $35.99 | Error: $22.01 | SLE: $0.22 | Item: XIM SP-LAMP-083 Replacement Projector La...\u001b[0m\n",
      "\u001b[92m58: Guess: $69.00 | Truth: $69.00 | Error: $0.00 | SLE: $0.00 | Item: Godox Xpro-S for Sony TTL Wireless Flash...\u001b[0m\n",
      "\u001b[92m59: Guess: $289.00 | Truth: $259.99 | Error: $29.01 | SLE: $0.01 | Item: YUANZHENG Full LED Rear Brake Tail Light...\u001b[0m\n",
      "\u001b[92m60: Guess: $85.00 | Truth: $119.00 | Error: $34.00 | SLE: $0.11 | Item: Godox Lux Senior Retro Camera Flash 6000...\u001b[0m\n",
      "\u001b[92m61: Guess: $50.00 | Truth: $41.99 | Error: $8.01 | SLE: $0.03 | Item: MOSISO Laptop Bag for Women, 15.6-16 inc...\u001b[0m\n",
      "\u001b[92m62: Guess: $127.00 | Truth: $101.98 | Error: $25.02 | SLE: $0.05 | Item: Auto Meter 17200 Gauge Works Dual Pillar...\u001b[0m\n",
      "\u001b[93m63: Guess: $100.00 | Truth: $173.99 | Error: $73.99 | SLE: $0.30 | Item: Kolpin UTV WINDSHIELD - REAR PANEL - POL...\u001b[0m\n",
      "\u001b[93m64: Guess: $193.00 | Truth: $132.66 | Error: $60.34 | SLE: $0.14 | Item: RAREELECTRICAL New Starter Motor Compati...\u001b[0m\n",
      "\u001b[91m65: Guess: $799.00 | Truth: $359.95 | Error: $439.05 | SLE: $0.63 | Item: Andrews N4 Cam Set for Buell 94-99 Harle...\u001b[0m\n",
      "\u001b[91m66: Guess: $199.00 | Truth: $349.99 | Error: $150.99 | SLE: $0.32 | Item: TP-Link Deco AX7800 Tri-Band Mesh WiFi 6...\u001b[0m\n",
      "\u001b[91m67: Guess: $317.00 | Truth: $799.99 | Error: $482.99 | SLE: $0.85 | Item: Dell OptiPlex 7450 All in One Desktop Co...\u001b[0m\n",
      "\u001b[91m68: Guess: $139.00 | Truth: $399.95 | Error: $260.95 | SLE: $1.11 | Item: Microsoft Natural Ergonomic Keyboard 400...\u001b[0m\n",
      "\u001b[92m69: Guess: $22.00 | Truth: $40.91 | Error: $18.91 | SLE: $0.36 | Item: OUWEE L16L6PC1 Laptop Battery Compatible...\u001b[0m\n",
      "\u001b[91m70: Guess: $164.00 | Truth: $378.42 | Error: $214.42 | SLE: $0.69 | Item: R1 Concepts Front Rear Brakes and Rotors...\u001b[0m\n",
      "\u001b[93m71: Guess: $161.00 | Truth: $212.37 | Error: $51.37 | SLE: $0.08 | Item: Dorman 698-404 Front Passenger Side Load...\u001b[0m\n",
      "\u001b[93m72: Guess: $50.00 | Truth: $108.02 | Error: $58.02 | SLE: $0.58 | Item: AMD A8-7600 Quad-Core 3.1 GHz Socket FM2...\u001b[0m\n",
      "\u001b[93m73: Guess: $164.00 | Truth: $260.99 | Error: $96.99 | SLE: $0.21 | Item: Firestone Destination X/T All-Terrain Tr...\u001b[0m\n",
      "\u001b[93m74: Guess: $164.00 | Truth: $210.79 | Error: $46.79 | SLE: $0.06 | Item: Dell Optiplex 7020 Desktop Computer PC, ...\u001b[0m\n",
      "\u001b[93m75: Guess: $65.00 | Truth: $142.43 | Error: $77.43 | SLE: $0.60 | Item: KX-FAT407 Toner Cartridge\u001b[0m\n",
      "\u001b[93m76: Guess: $149.00 | Truth: $89.99 | Error: $59.01 | SLE: $0.25 | Item: WiFi Projector, VILINICE 7500L Mini Blue...\u001b[0m\n",
      "\u001b[93m77: Guess: $317.00 | Truth: $509.99 | Error: $192.99 | SLE: $0.22 | Item: Polaris HD 3,500 lb. Winch\u001b[0m\n",
      "\u001b[92m78: Guess: $193.00 | Truth: $169.19 | Error: $23.81 | SLE: $0.02 | Item: COMPLETESTRUTS Front Quick Complete Stru...\u001b[0m\n",
      "\u001b[93m79: Guess: $100.00 | Truth: $146.99 | Error: $46.99 | SLE: $0.15 | Item: Bridgestone/Firestone 005067 Exedra Max ...\u001b[0m\n",
      "\u001b[92m80: Guess: $65.00 | Truth: $29.30 | Error: $35.70 | SLE: $0.61 | Item: Mount-It! Universal TV Stand Base Replac...\u001b[0m\n",
      "\u001b[91m81: Guess: $179.00 | Truth: $382.41 | Error: $203.41 | SLE: $0.57 | Item: Rear Left or Right Air Shock For Land Ro...\u001b[0m\n",
      "\u001b[92m82: Guess: $164.00 | Truth: $139.33 | Error: $24.67 | SLE: $0.03 | Item: Driveshaft safety loop, front\u001b[0m\n",
      "\u001b[92m83: Guess: $24.00 | Truth: $21.99 | Error: $2.01 | SLE: $0.01 | Item: Comp Bind Technology Dust Cover, Compati...\u001b[0m\n",
      "\u001b[92m84: Guess: $161.00 | Truth: $193.46 | Error: $32.46 | SLE: $0.03 | Item: Red Line 30604 Full Synthetic C+ Automat...\u001b[0m\n",
      "\u001b[91m85: Guess: $50.00 | Truth: $166.22 | Error: $116.22 | SLE: $1.41 | Item: Air Inject Check Valve Compatible With 2...\u001b[0m\n",
      "\u001b[93m86: Guess: $127.00 | Truth: $201.19 | Error: $74.19 | SLE: $0.21 | Item: Genuine GM Parts 20914717 Front Driver S...\u001b[0m\n",
      "\u001b[92m87: Guess: $179.00 | Truth: $187.95 | Error: $8.95 | SLE: $0.00 | Item: Bosch Automotive AL7543N 100% New Altern...\u001b[0m\n",
      "\u001b[92m88: Guess: $15.00 | Truth: $18.95 | Error: $3.95 | SLE: $0.05 | Item: LUXPaper 4Bar A1 Invitation Envelopes | ...\u001b[0m\n",
      "\u001b[92m89: Guess: $69.00 | Truth: $96.18 | Error: $27.18 | SLE: $0.11 | Item: ACDelco Professional 45D3442 Front Passe...\u001b[0m\n",
      "\u001b[92m90: Guess: $22.00 | Truth: $37.99 | Error: $15.99 | SLE: $0.28 | Item: Fainne 200 Pack Retractable Ballpoint Pe...\u001b[0m\n",
      "\u001b[91m91: Guess: $139.00 | Truth: $39.95 | Error: $99.05 | SLE: $1.51 | Item: Opteka CXS-800 Gearless Metal Follow Foc...\u001b[0m\n",
      "\u001b[92m92: Guess: $193.00 | Truth: $160.99 | Error: $32.01 | SLE: $0.03 | Item: Lloyd Mats Heavy Duty Premium Black and ...\u001b[0m\n",
      "\u001b[91m93: Guess: $30.00 | Truth: $111.31 | Error: $81.31 | SLE: $1.66 | Item: A-Tech 16GB (2x8GB) RAM for Dell Latitud...\u001b[0m\n",
      "\u001b[93m94: Guess: $161.00 | Truth: $204.99 | Error: $43.99 | SLE: $0.06 | Item: PTYYDS Fit 2014-2018 Subaru Forester Sea...\u001b[0m\n",
      "\u001b[91m95: Guess: $47.00 | Truth: $133.65 | Error: $86.65 | SLE: $1.06 | Item: Konica-Minolta High Capacity Toner Cartr...\u001b[0m\n",
      "\u001b[93m96: Guess: $161.00 | Truth: $100.62 | Error: $60.38 | SLE: $0.22 | Item: AMS Automotive Rhino Pac 16-082 Clutch K...\u001b[0m\n",
      "\u001b[93m97: Guess: $164.00 | Truth: $96.99 | Error: $67.01 | SLE: $0.27 | Item: NOKIAN HAKKAPELIITTA R3 91R STUDLESS ** ...\u001b[0m\n",
      "\u001b[92m98: Guess: $9.00 | Truth: $9.66 | Error: $0.66 | SLE: $0.00 | Item: 9V Power Adapter Cord for Brother Label ...\u001b[0m\n",
      "\u001b[93m99: Guess: $161.00 | Truth: $249.00 | Error: $88.00 | SLE: $0.19 | Item: AT&T TL7612 DECT 6.0 Expandable Cordless...\u001b[0m\n",
      "\u001b[91m100: Guess: $164.00 | Truth: $532.67 | Error: $368.67 | SLE: $1.38 | Item: Canon Office Products MX472 Wireless Off...\u001b[0m\n",
      "\u001b[92m101: Guess: $390.00 | Truth: $346.43 | Error: $43.57 | SLE: $0.01 | Item: Lorell Table Trolley Cart, Gray\u001b[0m\n",
      "\u001b[91m102: Guess: $393.00 | Truth: $157.00 | Error: $236.00 | SLE: $0.83 | Item: Black Housing Halo LED Projector Headlig...\u001b[0m\n",
      "\u001b[92m103: Guess: $49.00 | Truth: $43.78 | Error: $5.22 | SLE: $0.01 | Item: Compatible Dryer Heating Element for Sam...\u001b[0m\n",
      "\u001b[93m104: Guess: $289.00 | Truth: $449.95 | Error: $160.95 | SLE: $0.19 | Item: Powertrax GT434430 30 Spline (Grip Pro, ...\u001b[0m\n",
      "\u001b[92m105: Guess: $8.00 | Truth: $2.25 | Error: $5.75 | SLE: $1.04 | Item: Micro SATA 16 Pin Extension Cable - 4 in...\u001b[0m\n",
      "\u001b[93m106: Guess: $193.00 | Truth: $127.50 | Error: $65.50 | SLE: $0.17 | Item: Godspeed AK-122-B Adjustable Toe Rear Tr...\u001b[0m\n",
      "\u001b[92m107: Guess: $164.00 | Truth: $197.90 | Error: $33.90 | SLE: $0.03 | Item: WeatherTech Custom Fit FloorLiner for Au...\u001b[0m\n",
      "\u001b[91m108: Guess: $100.00 | Truth: $192.43 | Error: $92.43 | SLE: $0.42 | Item: RAREELECTRICAL NEW AC CONDENSER COMPATIB...\u001b[0m\n",
      "\u001b[92m109: Guess: $142.00 | Truth: $138.88 | Error: $3.12 | SLE: $0.00 | Item: Arashi Frame Sliders Crash Protector for...\u001b[0m\n",
      "\u001b[92m110: Guess: $100.00 | Truth: $79.00 | Error: $21.00 | SLE: $0.05 | Item: Boss Audio Riot Gt380 600Watt 2-Channel ...\u001b[0m\n",
      "\u001b[91m111: Guess: $65.00 | Truth: $239.99 | Error: $174.99 | SLE: $1.68 | Item: A500 A518 42RE 44RE 46RE Transmission So...\u001b[0m\n",
      "\u001b[92m112: Guess: $193.00 | Truth: $174.99 | Error: $18.01 | SLE: $0.01 | Item: TOTALLY COVERS Compatible with 1991-1997...\u001b[0m\n",
      "\u001b[92m113: Guess: $274.00 | Truth: $289.99 | Error: $15.99 | SLE: $0.00 | Item: AV Access HDBaseT DisplayPort KVM Extend...\u001b[0m\n",
      "\u001b[92m114: Guess: $10.00 | Truth: $8.99 | Error: $1.01 | SLE: $0.01 | Item: Signs ByLITA Fancy No Soliciting No Soli...\u001b[0m\n",
      "\u001b[91m115: Guess: $193.00 | Truth: $89.95 | Error: $103.05 | SLE: $0.57 | Item: WeatherTech Toy CORLL14+ R BLK/\u001b[0m\n",
      "\u001b[92m116: Guess: $69.00 | Truth: $48.92 | Error: $20.08 | SLE: $0.11 | Item: Fit System Driver Side Mirror for Subaru...\u001b[0m\n",
      "\u001b[92m117: Guess: $63.00 | Truth: $75.99 | Error: $12.99 | SLE: $0.03 | Item: LD Remanufactured Toner Cartridge Replac...\u001b[0m\n",
      "\u001b[92m118: Guess: $22.00 | Truth: $24.66 | Error: $2.66 | SLE: $0.01 | Item: PHILIPS UpBeat SHB3595 Wireless Headphon...\u001b[0m\n",
      "\u001b[93m119: Guess: $219.00 | Truth: $340.99 | Error: $121.99 | SLE: $0.19 | Item: Harman Kardon Enchant 10\" Wireless Subwo...\u001b[0m\n",
      "\u001b[93m120: Guess: $99.00 | Truth: $45.99 | Error: $53.01 | SLE: $0.57 | Item: Damipow True Wireless Sleep Earbuds, Noi...\u001b[0m\n",
      "\u001b[92m121: Guess: $65.00 | Truth: $67.99 | Error: $2.99 | SLE: $0.00 | Item: Antique Vintage Phone, Rotary Dial Retro...\u001b[0m\n",
      "\u001b[91m122: Guess: $393.00 | Truth: $225.96 | Error: $167.04 | SLE: $0.30 | Item: SunF 21x7-10 Front & 22x10-10 Rear 6 Ply...\u001b[0m\n",
      "\u001b[91m123: Guess: $219.00 | Truth: $399.99 | Error: $180.99 | SLE: $0.36 | Item: Rockford Fosgate M2D2-10IB Color Optix 1...\u001b[0m\n",
      "\u001b[92m124: Guess: $179.00 | Truth: $177.63 | Error: $1.37 | SLE: $0.00 | Item: GBC Dirt Commander Tire 27x9-12 for Pola...\u001b[0m\n",
      "\u001b[91m125: Guess: $1.00 | Truth: $999.00 | Error: $998.00 | SLE: $38.62 | Item: DOMETIC Brisk II Air Conditioner - High-...\u001b[0m\n",
      "\u001b[93m126: Guess: $285.00 | Truth: $394.25 | Error: $109.25 | SLE: $0.10 | Item: NEW BILSTEIN FRONT & REAR SHOCKS FOR 00-...\u001b[0m\n",
      "\u001b[93m127: Guess: $193.00 | Truth: $319.00 | Error: $126.00 | SLE: $0.25 | Item: ECOTRIC Front Headlights Compatible with...\u001b[0m\n",
      "\u001b[92m128: Guess: $289.00 | Truth: $271.62 | Error: $17.38 | SLE: $0.00 | Item: Evan-Fischer Bumper Cover Kit For 99-200...\u001b[0m\n",
      "\u001b[93m129: Guess: $63.00 | Truth: $121.78 | Error: $58.78 | SLE: $0.42 | Item: Schaeffler LuK LSC267 Clutch Slave Cylin...\u001b[0m\n",
      "\u001b[92m130: Guess: $18.00 | Truth: $13.99 | Error: $4.01 | SLE: $0.06 | Item: Hocase iPad mini/2/3 Case, Shockproof Hy...\u001b[0m\n",
      "\u001b[91m131: Guess: $317.00 | Truth: $777.81 | Error: $460.81 | SLE: $0.80 | Item: Dell 3060 PC Desktop Computer, i5-8400, ...\u001b[0m\n",
      "\u001b[91m132: Guess: $183.00 | Truth: $81.59 | Error: $101.41 | SLE: $0.64 | Item: VIWIK Floor Mats for 2023 Mazda CX-50 TP...\u001b[0m\n",
      "\u001b[93m133: Guess: $190.00 | Truth: $149.99 | Error: $40.01 | SLE: $0.06 | Item: OEDRO Floor Mats Set for 2013-2023 Toyot...\u001b[0m\n",
      "\u001b[93m134: Guess: $164.00 | Truth: $104.94 | Error: $59.06 | SLE: $0.20 | Item: CAT6 RJ45 Keystone Jack, V-Max Series - ...\u001b[0m\n",
      "\u001b[93m135: Guess: $193.00 | Truth: $302.20 | Error: $109.20 | SLE: $0.20 | Item: Dell OptiPlex 7060 SFF High Performance ...\u001b[0m\n",
      "\u001b[92m136: Guess: $221.00 | Truth: $245.00 | Error: $24.00 | SLE: $0.01 | Item: Brother Laser Printer with Duplex HL-L62...\u001b[0m\n",
      "\u001b[91m137: Guess: $22.00 | Truth: $299.98 | Error: $277.98 | SLE: $6.61 | Item: USPS Forever Stamp: Celebration Boutonni...\u001b[0m\n",
      "\u001b[92m138: Guess: $289.00 | Truth: $289.99 | Error: $0.99 | SLE: $0.00 | Item: TeraFlex 1023000 Shackle Kit (CJ 1976-86...\u001b[0m\n",
      "\u001b[93m139: Guess: $277.00 | Truth: $371.99 | Error: $94.99 | SLE: $0.09 | Item: Auto Meter 7378 NV 2-1/16\" Digital Wideb...\u001b[0m\n",
      "\u001b[92m140: Guess: $199.00 | Truth: $212.86 | Error: $13.86 | SLE: $0.00 | Item: Scat 80179061 Seat\u001b[0m\n",
      "\u001b[93m141: Guess: $65.00 | Truth: $117.07 | Error: $52.07 | SLE: $0.34 | Item: Synology - DDR3L - Module - 4 GB - SO-DI...\u001b[0m\n",
      "\u001b[92m142: Guess: $39.00 | Truth: $22.95 | Error: $16.05 | SLE: $0.26 | Item: Tyler TBBP-3-WH Big Button Corded Phone ...\u001b[0m\n",
      "\u001b[91m143: Guess: $317.00 | Truth: $225.00 | Error: $92.00 | SLE: $0.12 | Item: YAKIMA - JetStream Bar Aerodynamic Cross...\u001b[0m\n",
      "\u001b[91m144: Guess: $100.00 | Truth: $184.05 | Error: $84.05 | SLE: $0.37 | Item: Detroit Axle Complete Power Steering Rac...\u001b[0m\n",
      "\u001b[91m145: Guess: $390.00 | Truth: $192.42 | Error: $197.58 | SLE: $0.50 | Item: Universal Air Conditioner KT 1383 A/C Co...\u001b[0m\n",
      "\u001b[93m146: Guess: $317.00 | Truth: $492.00 | Error: $175.00 | SLE: $0.19 | Item: ASA Voyager Wireless Wisight Camera Syst...\u001b[0m\n",
      "\u001b[92m147: Guess: $118.00 | Truth: $124.99 | Error: $6.99 | SLE: $0.00 | Item: Men's The Slayer Canvas Riding Shoe Blac...\u001b[0m\n",
      "\u001b[92m148: Guess: $199.00 | Truth: $209.95 | Error: $10.95 | SLE: $0.00 | Item: MPC Complete Factory Remote Activated Re...\u001b[0m\n",
      "\u001b[92m149: Guess: $69.00 | Truth: $32.99 | Error: $36.01 | SLE: $0.52 | Item: Mean Well RS-100-15 Enclosed Switching A...\u001b[0m\n",
      "\u001b[92m150: Guess: $149.00 | Truth: $185.00 | Error: $36.00 | SLE: $0.05 | Item: EnGenius Technologies Wi-Fi 5 Outdoor AC...\u001b[0m\n",
      "\u001b[93m151: Guess: $142.00 | Truth: $88.28 | Error: $53.72 | SLE: $0.22 | Item: MW Mean Well HLG-240H-C2100B 119V 2100mA...\u001b[0m\n",
      "\u001b[92m152: Guess: $31.00 | Truth: $60.48 | Error: $29.48 | SLE: $0.43 | Item: SGF-M9 Replacement water filter for Kenm...\u001b[0m\n",
      "\u001b[92m153: Guess: $39.00 | Truth: $78.50 | Error: $39.50 | SLE: $0.47 | Item: High Grade Multi-Coated, Multi-Threaded,...\u001b[0m\n",
      "\u001b[92m154: Guess: $69.00 | Truth: $47.44 | Error: $21.56 | SLE: $0.14 | Item: Sub Zero Refrigerator Ice Maker Fan Swit...\u001b[0m\n",
      "\u001b[93m155: Guess: $193.00 | Truth: $279.95 | Error: $86.95 | SLE: $0.14 | Item: Viking Horns | 3 Trumpet Train Air Horn ...\u001b[0m\n",
      "\u001b[92m156: Guess: $186.00 | Truth: $159.00 | Error: $27.00 | SLE: $0.02 | Item: DTA 50064 Front Complete Strut Assemblie...\u001b[0m\n",
      "\u001b[93m157: Guess: $103.00 | Truth: $51.29 | Error: $51.71 | SLE: $0.47 | Item: Safe Smoke Window Visor Sun Rain Vent Gu...\u001b[0m\n",
      "\u001b[91m158: Guess: $289.00 | Truth: $106.94 | Error: $182.06 | SLE: $0.98 | Item: Milodon 16260 Performance Aluminum High ...\u001b[0m\n",
      "\u001b[93m159: Guess: $164.00 | Truth: $109.00 | Error: $55.00 | SLE: $0.16 | Item: AudioControl LC2i PRO 2-Channel Line Out...\u001b[0m\n",
      "\u001b[92m160: Guess: $519.00 | Truth: $483.69 | Error: $35.31 | SLE: $0.00 | Item: Blue Ox BX2628 Base Plate for Ford Edge ...\u001b[0m\n",
      "\u001b[91m161: Guess: $193.00 | Truth: $429.99 | Error: $236.99 | SLE: $0.64 | Item: Power Stop AR8594XPR Front Evolution Dri...\u001b[0m\n",
      "\u001b[92m162: Guess: $114.00 | Truth: $89.99 | Error: $24.01 | SLE: $0.05 | Item: Rugged Ridge 13579.71 Eclipse Sun Shade,...\u001b[0m\n",
      "\u001b[92m163: Guess: $45.00 | Truth: $49.98 | Error: $4.98 | SLE: $0.01 | Item: VONETS VBG1200 Industrial Mini Dual Band...\u001b[0m\n",
      "\u001b[91m164: Guess: $726.00 | Truth: $404.99 | Error: $321.01 | SLE: $0.34 | Item: 10\" STORM TROOPER Machined/Black Wheels ...\u001b[0m\n",
      "\u001b[93m165: Guess: $100.00 | Truth: $166.69 | Error: $66.69 | SLE: $0.26 | Item: Putco Element Chrome Window Deflectors F...\u001b[0m\n",
      "\u001b[92m166: Guess: $193.00 | Truth: $164.99 | Error: $28.01 | SLE: $0.02 | Item: Garmin DriveSmart 55 & Traffic 5.5\" Disp...\u001b[0m\n",
      "\u001b[92m167: Guess: $193.00 | Truth: $208.10 | Error: $15.10 | SLE: $0.01 | Item: HARLEY DAVIDSON STARTER ROAD KING ULTRA ...\u001b[0m\n",
      "\u001b[93m168: Guess: $299.00 | Truth: $469.00 | Error: $170.00 | SLE: $0.20 | Item: HP [Windows 11 Home] Newest Laptop, 15.6...\u001b[0m\n",
      "\u001b[92m169: Guess: $15.00 | Truth: $13.69 | Error: $1.31 | SLE: $0.01 | Item: SanDisk 64GB SDXC SD Ultra Memory Card W...\u001b[0m\n",
      "\u001b[93m170: Guess: $127.00 | Truth: $82.99 | Error: $44.01 | SLE: $0.18 | Item: DZCULB Pure White LED Rock Lights 12PCS ...\u001b[0m\n",
      "\u001b[92m171: Guess: $339.00 | Truth: $333.01 | Error: $5.99 | SLE: $0.00 | Item: Apple Watch Series 8 (GPS + Cellular, 45...\u001b[0m\n",
      "\u001b[92m172: Guess: $18.00 | Truth: $16.99 | Error: $1.01 | SLE: $0.00 | Item: Carson-Dellosa Math Workshop Resource Bo...\u001b[0m\n",
      "\u001b[93m173: Guess: $519.00 | Truth: $749.00 | Error: $230.00 | SLE: $0.13 | Item: HiBy R6 Pro II Music Player Digital Audi...\u001b[0m\n",
      "\u001b[91m174: Guess: $252.00 | Truth: $150.88 | Error: $101.12 | SLE: $0.26 | Item: NEW 250 AMP HIGH OUTPUT ALTERNATOR FITS ...\u001b[0m\n",
      "\u001b[91m175: Guess: $127.00 | Truth: $211.71 | Error: $84.71 | SLE: $0.26 | Item: StopTech 127.34071R Sport Drilled/Slotte...\u001b[0m\n",
      "\u001b[91m176: Guess: $164.00 | Truth: $355.81 | Error: $191.81 | SLE: $0.59 | Item: R1 Concepts Front Rear Brakes and Rotors...\u001b[0m\n",
      "\u001b[93m177: Guess: $164.00 | Truth: $112.16 | Error: $51.84 | SLE: $0.14 | Item: Front Rear Sway Bars + Ball Joints - Tie...\u001b[0m\n",
      "\u001b[91m178: Guess: $249.00 | Truth: $94.99 | Error: $154.01 | SLE: $0.92 | Item: Swann 4580 DVR 44580 4 Channel Digital V...\u001b[0m\n",
      "\u001b[93m179: Guess: $58.00 | Truth: $114.78 | Error: $56.78 | SLE: $0.45 | Item: Prox Racing Parts 01.1315.A2 Piston Kit\u001b[0m\n",
      "\u001b[93m180: Guess: $127.00 | Truth: $48.99 | Error: $78.01 | SLE: $0.88 | Item: Precut Window Tint Kit for Ford Taurus 4...\u001b[0m\n",
      "\u001b[92m181: Guess: $4.00 | Truth: $6.89 | Error: $2.89 | SLE: $0.21 | Item: Hands and Cat Paw - Cute Newlywed Weddin...\u001b[0m\n",
      "\u001b[93m182: Guess: $65.00 | Truth: $20.71 | Error: $44.29 | SLE: $1.24 | Item: 20PCS Black M12x1.5 Open End Bulge Acorn...\u001b[0m\n",
      "\u001b[92m183: Guess: $39.00 | Truth: $68.80 | Error: $29.80 | SLE: $0.31 | Item: MC MOTOPARTS Black CNC Quick Lock Fuel G...\u001b[0m\n",
      "\u001b[92m184: Guess: $183.00 | Truth: $193.99 | Error: $10.99 | SLE: $0.00 | Item: General G-Max AS-05 Performance Radial T...\u001b[0m\n",
      "\u001b[92m185: Guess: $142.00 | Truth: $155.21 | Error: $13.21 | SLE: $0.01 | Item: ACDelco GM Original Equipment 22707167 F...\u001b[0m\n",
      "\u001b[92m186: Guess: $49.00 | Truth: $76.52 | Error: $27.52 | SLE: $0.19 | Item: Car Radio Stereo Double Din Dash Kit for...\u001b[0m\n",
      "\u001b[92m187: Guess: $139.00 | Truth: $106.99 | Error: $32.01 | SLE: $0.07 | Item: Nexen CP672 Performance Radial Tire - 21...\u001b[0m\n",
      "\u001b[92m188: Guess: $153.00 | Truth: $125.53 | Error: $27.47 | SLE: $0.04 | Item: UNITED SCIENTIFIC SUPPLIES DSA001 Distil...\u001b[0m\n",
      "\u001b[92m189: Guess: $193.00 | Truth: $159.00 | Error: $34.00 | SLE: $0.04 | Item: Reopro RV Converter | Multiple Capacitie...\u001b[0m\n",
      "\u001b[93m190: Guess: $103.00 | Truth: $158.95 | Error: $55.95 | SLE: $0.19 | Item: MotorbyMotor HA590515 Front Wheel Bearin...\u001b[0m\n",
      "\u001b[92m191: Guess: $289.00 | Truth: $329.00 | Error: $40.00 | SLE: $0.02 | Item: Factory Wheel Replacement New 22 Inch 22...\u001b[0m\n",
      "\u001b[93m192: Guess: $143.00 | Truth: $85.00 | Error: $58.00 | SLE: $0.27 | Item: Travall Mats Compatible with Volkswagen ...\u001b[0m\n",
      "\u001b[91m193: Guess: $252.00 | Truth: $148.75 | Error: $103.25 | SLE: $0.28 | Item: AutoShack KN798432PR Front Steering Knuc...\u001b[0m\n",
      "\u001b[93m194: Guess: $179.00 | Truth: $249.00 | Error: $70.00 | SLE: $0.11 | Item: The Seat Shop Driver Bottom Replacement ...\u001b[0m\n",
      "\u001b[91m195: Guess: $66.00 | Truth: $229.00 | Error: $163.00 | SLE: $1.52 | Item: HPC Hummer H2 Chrome Billet Side Vents\u001b[0m\n",
      "\u001b[92m196: Guess: $65.00 | Truth: $39.98 | Error: $25.02 | SLE: $0.23 | Item: LOVEVOOK Slim Laptop Backpack for Men, L...\u001b[0m\n",
      "\u001b[92m197: Guess: $69.00 | Truth: $79.00 | Error: $10.00 | SLE: $0.02 | Item: LCDOLED® Compatible 15.6 inch 1366x768 H...\u001b[0m\n",
      "\u001b[93m198: Guess: $179.00 | Truth: $278.88 | Error: $99.88 | SLE: $0.19 | Item: iHold A4LP 4-Line Music On Hold Player s...\u001b[0m\n",
      "\u001b[92m199: Guess: $103.00 | Truth: $104.66 | Error: $1.66 | SLE: $0.00 | Item: KYB 334302 Excel-G Gas Strut, Black , Si...\u001b[0m\n",
      "\u001b[93m200: Guess: $570.00 | Truth: $408.00 | Error: $162.00 | SLE: $0.11 | Item: Apple Watch Series 8 GPS 41mm Midnight A...\u001b[0m\n",
      "\u001b[93m201: Guess: $161.00 | Truth: $215.99 | Error: $54.99 | SLE: $0.09 | Item: MBI AUTO - Primered, Front Bumper Cover ...\u001b[0m\n",
      "\u001b[92m202: Guess: $139.00 | Truth: $174.98 | Error: $35.98 | SLE: $0.05 | Item: MAXLINER Floor Mats 2 Row Liner Set Blac...\u001b[0m\n",
      "\u001b[91m203: Guess: $249.00 | Truth: $502.97 | Error: $253.97 | SLE: $0.49 | Item: Lenovo ThinkPad P51 15.6” FHD Intel Core...\u001b[0m\n",
      "\u001b[92m204: Guess: $100.00 | Truth: $96.89 | Error: $3.11 | SLE: $0.00 | Item: A-Premium Engine Coolant Radiator Assemb...\u001b[0m\n",
      "\u001b[92m205: Guess: $7.00 | Truth: $9.52 | Error: $2.52 | SLE: $0.07 | Item: Haokiang Scart 20 Pin Male to 3 RCA AV F...\u001b[0m\n",
      "\u001b[93m206: Guess: $289.00 | Truth: $219.98 | Error: $69.02 | SLE: $0.07 | Item: Panasonic PV-GS31 MiniDV Camcorder w/26x...\u001b[0m\n",
      "\u001b[93m207: Guess: $179.00 | Truth: $119.00 | Error: $60.00 | SLE: $0.16 | Item: MB Quart FA1-2000.1 Mono Channel Car Aud...\u001b[0m\n",
      "\u001b[92m208: Guess: $179.00 | Truth: $147.99 | Error: $31.01 | SLE: $0.04 | Item: YLFC Bluetooth Integrated Motorcycle Hel...\u001b[0m\n",
      "\u001b[92m209: Guess: $146.00 | Truth: $137.78 | Error: $8.22 | SLE: $0.00 | Item: BOSCH 40011489 QuietCast Premium Disc Br...\u001b[0m\n",
      "\u001b[92m210: Guess: $9.00 | Truth: $0.50 | Error: $8.50 | SLE: $3.60 | Item: AMERICAN FIBERTEK Mirror Screen Protecto...\u001b[0m\n",
      "\u001b[91m211: Guess: $339.00 | Truth: $155.98 | Error: $183.02 | SLE: $0.60 | Item: [2+32G] Android 11 Car Stereo for Mazda ...\u001b[0m\n",
      "\u001b[92m212: Guess: $139.00 | Truth: $112.44 | Error: $26.56 | SLE: $0.04 | Item: NRG Innovations RST-009S Race Style Sued...\u001b[0m\n",
      "\u001b[92m213: Guess: $22.00 | Truth: $38.09 | Error: $16.09 | SLE: $0.28 | Item: Trodat 10-Digit Self-Ink Number Stamp, B...\u001b[0m\n",
      "\u001b[92m214: Guess: $31.00 | Truth: $11.99 | Error: $19.01 | SLE: $0.81 | Item: 3M 1080 Brushed Aluminum Air-Release Vin...\u001b[0m\n",
      "\u001b[92m215: Guess: $69.00 | Truth: $48.89 | Error: $20.11 | SLE: $0.11 | Item: Qoosea CD Player Bluetooth Desktop CD Pl...\u001b[0m\n",
      "\u001b[92m216: Guess: $799.00 | Truth: $675.00 | Error: $124.00 | SLE: $0.03 | Item: Godspeed MSS0780 MonoSS Coilover Lowerin...\u001b[0m\n",
      "\u001b[93m217: Guess: $179.00 | Truth: $99.25 | Error: $79.75 | SLE: $0.34 | Item: Frigidaire 297370602 Control Board\u001b[0m\n",
      "\u001b[92m218: Guess: $164.00 | Truth: $153.51 | Error: $10.49 | SLE: $0.00 | Item: Spyder Auto 5001542 LED Tail Lights Red/...\u001b[0m\n",
      "\u001b[92m219: Guess: $52.00 | Truth: $45.99 | Error: $6.01 | SLE: $0.01 | Item: LCL Compatible Ink Cartridge Replacement...\u001b[0m\n",
      "\u001b[92m220: Guess: $179.00 | Truth: $220.99 | Error: $41.99 | SLE: $0.04 | Item: General GMAX RS Performance Radial Tire-...\u001b[0m\n",
      "\u001b[91m221: Guess: $1.00 | Truth: $553.99 | Error: $552.99 | SLE: $31.65 | Item: Voyager VOS7MDCL2B ToughCam 2-Camera Obs...\u001b[0m\n",
      "\u001b[93m222: Guess: $164.00 | Truth: $105.99 | Error: $58.01 | SLE: $0.19 | Item: Click2go Cold Air Intake Kit with Reusab...\u001b[0m\n",
      "\u001b[92m223: Guess: $299.00 | Truth: $349.95 | Error: $50.95 | SLE: $0.02 | Item: Rough Country 7.5\" Loaded N3 Lifted Stru...\u001b[0m\n",
      "\u001b[93m224: Guess: $164.00 | Truth: $252.27 | Error: $88.27 | SLE: $0.18 | Item: MORryde TV40-011H Horizontal Sliding TV ...\u001b[0m\n",
      "\u001b[93m225: Guess: $788.00 | Truth: $612.65 | Error: $175.35 | SLE: $0.06 | Item: Empava 24\" Electric Single Wall Oven wit...\u001b[0m\n",
      "\u001b[93m226: Guess: $317.00 | Truth: $251.20 | Error: $65.80 | SLE: $0.05 | Item: Cycle Smiths 1 1/4in. Bagger Handlebar -...\u001b[0m\n",
      "\u001b[91m227: Guess: $114.00 | Truth: $394.63 | Error: $280.63 | SLE: $1.53 | Item: Steering Wheel Kit, 23mm Wood Grip, 15 D...\u001b[0m\n",
      "\u001b[93m228: Guess: $519.00 | Truth: $409.99 | Error: $109.01 | SLE: $0.06 | Item: Garmin inReach Mini Marine Bundle, Light...\u001b[0m\n",
      "\u001b[92m229: Guess: $12.00 | Truth: $0.97 | Error: $11.03 | SLE: $3.56 | Item: NOCO NCP2 MC303 Oil-Based Battery Termin...\u001b[0m\n",
      "\u001b[91m230: Guess: $799.00 | Truth: $380.00 | Error: $419.00 | SLE: $0.55 | Item: Bitmain Antminer S17 Pro 56TH/S Bitcoin ...\u001b[0m\n",
      "\u001b[92m231: Guess: $164.00 | Truth: $145.00 | Error: $19.00 | SLE: $0.01 | Item: ACDelco - N.L.A. (B) (214-2107)\u001b[0m\n",
      "\u001b[92m232: Guess: $65.00 | Truth: $38.99 | Error: $26.01 | SLE: $0.25 | Item: Repairwares Washing Machine Water Inlet/...\u001b[0m\n",
      "\u001b[92m233: Guess: $10.00 | Truth: $19.49 | Error: $9.49 | SLE: $0.39 | Item: CableCreation [5-Pack] 1 Foot Short Powe...\u001b[0m\n",
      "\u001b[91m234: Guess: $164.00 | Truth: $414.37 | Error: $250.37 | SLE: $0.85 | Item: R1 Concepts Front Rear Brakes and Rotors...\u001b[0m\n",
      "\u001b[91m235: Guess: $299.00 | Truth: $87.99 | Error: $211.01 | SLE: $1.48 | Item: for Toyota Camry 2006 2007 2008 2009 201...\u001b[0m\n",
      "\u001b[93m236: Guess: $33.00 | Truth: $81.40 | Error: $48.40 | SLE: $0.78 | Item: JAM PAPER Plastic Sleeves - Letter Size ...\u001b[0m\n",
      "\u001b[91m237: Guess: $183.00 | Truth: $550.99 | Error: $367.99 | SLE: $1.21 | Item: MBI AUTO - Primered, Steel Front Bumper ...\u001b[0m\n",
      "\u001b[91m238: Guess: $139.00 | Truth: $299.99 | Error: $160.99 | SLE: $0.59 | Item: Handmade World NOIR NDS BUFF BLACK 16 In...\u001b[0m\n",
      "\u001b[92m239: Guess: $50.00 | Truth: $68.99 | Error: $18.99 | SLE: $0.10 | Item: New 2TB 3.5\" Hard Drive for Gateway Desk...\u001b[0m\n",
      "\u001b[93m240: Guess: $153.00 | Truth: $224.88 | Error: $71.88 | SLE: $0.15 | Item: PM Auto Front-Rear Quick Complete Strut-...\u001b[0m\n",
      "\u001b[93m241: Guess: $249.00 | Truth: $341.99 | Error: $92.99 | SLE: $0.10 | Item: StarONE Adjustable Chase Rack Roll Bar f...\u001b[0m\n",
      "\u001b[93m242: Guess: $99.00 | Truth: $45.00 | Error: $54.00 | SLE: $0.60 | Item: Qingsea Q 1600w Power Supply 90+ Gold De...\u001b[0m\n",
      "\u001b[93m243: Guess: $164.00 | Truth: $119.99 | Error: $44.01 | SLE: $0.10 | Item: BM Premium 2 Pack of LP-E19 High Capacit...\u001b[0m\n",
      "\u001b[93m244: Guess: $183.00 | Truth: $261.00 | Error: $78.00 | SLE: $0.12 | Item: Falken Wildpeak MT01 All- Season Radial ...\u001b[0m\n",
      "\u001b[92m245: Guess: $39.00 | Truth: $29.99 | Error: $9.01 | SLE: $0.07 | Item: Heavy Duty Premium Car Mount Dash and Wi...\u001b[0m\n",
      "\u001b[92m246: Guess: $47.00 | Truth: $25.99 | Error: $21.01 | SLE: $0.33 | Item: HIJIAO Hard EVA Carrying Case for DJI Te...\u001b[0m\n",
      "\u001b[91m247: Guess: $179.00 | Truth: $327.56 | Error: $148.56 | SLE: $0.36 | Item: EBC Brakes GD7417 3GD Series Dimpled and...\u001b[0m\n",
      "\u001b[92m248: Guess: $154.00 | Truth: $172.78 | Error: $18.78 | SLE: $0.01 | Item: EPI Sport Utility Clutch Kit, Stock Moto...\u001b[0m\n",
      "\u001b[92m249: Guess: $8.00 | Truth: $5.02 | Error: $2.98 | SLE: $0.16 | Item: Electronic Buzzer Alarm, 3-24V Active Pi...\u001b[0m\n",
      "\u001b[92m250: Guess: $519.00 | Truth: $499.00 | Error: $20.00 | SLE: $0.00 | Item: Venus Laowa 90mm f/2.8 2X Ultra Macro AP...\u001b[0m\n",
      "Openai Get Price Results:\n",
      "Mean Absolute Error: $84.85\n",
      "Mean Squared Logarithmic Error: $0.67\n",
      "Hits: $118\n",
      "Standard Deviation of Absolute Error: $112.79\n",
      "Standard Deviation of Squared Logarithmic Error: $3.19\n"
     ]
    },
    {
     "data": {
      "image/png": "[encoded data removed]",
      "text/plain": [
       "<Figure size 1200x800 with 1 Axes>"
      ]
     },
     "metadata": {},
     "output_type": "display_data"
    }
   ],
   "source": [
    "Tester.test(openai_get_price, test)"
   ]
  },
  {
   "cell_type": "code",
   "execution_count": null,
   "metadata": {},
   "outputs": [],
   "source": []
  }
 ],
 "metadata": {
  "kernelspec": {
   "display_name": "llm-env",
   "language": "python",
   "name": "python3"
  },
  "language_info": {
   "codemirror_mode": {
    "name": "ipython",
    "version": 3
   },
   "file_extension": ".py",
   "mimetype": "text/x-python",
   "name": "python",
   "nbconvert_exporter": "python",
   "pygments_lexer": "ipython3",
   "version": "3.12.7"
  }
 },
 "nbformat": 4,
 "nbformat_minor": 2
}
